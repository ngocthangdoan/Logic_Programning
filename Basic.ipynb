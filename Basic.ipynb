{
 "cells": [
  {
   "cell_type": "code",
   "execution_count": 1,
   "id": "a7f706cb-5fe5-4d8e-ae18-41ab02c00616",
   "metadata": {},
   "outputs": [
    {
     "name": "stdout",
     "output_type": "stream",
     "text": [
      "Hello world\n"
     ]
    }
   ],
   "source": [
    "console.log(\"Hello world\")"
   ]
  },
  {
   "cell_type": "code",
   "execution_count": 2,
   "id": "b3f6d923-09a0-481b-9dd0-1058fdf00591",
   "metadata": {},
   "outputs": [],
   "source": [
    "// comment\n",
    "// this is something else\n",
    "// this is drscription about something\n",
    "/*\n",
    "*\n",
    "*\n",
    "* This is a huge comment\n",
    "*/\n"
   ]
  },
  {
   "cell_type": "code",
   "execution_count": 7,
   "id": "c88e74a0-108b-43fb-956a-155ddc317589",
   "metadata": {},
   "outputs": [
    {
     "name": "stdout",
     "output_type": "stream",
     "text": [
      "Hello world!\n",
      "123\n",
      "Address: 123 Somewhere Dr, Halifax, NS\n",
      "\u001b[33m123\u001b[39m\n",
      "Hello\n",
      "World\n"
     ]
    }
   ],
   "source": [
    "// console.log - to display information to the console\n",
    "// any information that helps troubleshoot your programs\n",
    "\n",
    "// simple outpur\n",
    "console.log(\"Hello world!\");\n",
    "console.log(\"123\");\n",
    "// text inside quotation marks is called a \"string\"\n",
    "console.log(\"Address: 123 Somewhere Dr, Halifax, NS\");\n",
    "// intergers are types of data that you can do math on \n",
    "console.log(123);\n",
    "// there are some special \"characters\" that perform different actions\n",
    "console.log(\"Hello\\nWorld\");"
   ]
  },
  {
   "cell_type": "code",
   "execution_count": 8,
   "id": "ab2e0a0b-9e33-4615-aed8-cd33364243ee",
   "metadata": {},
   "outputs": [
    {
     "name": "stdin",
     "output_type": "stream",
     "text": [
      "What day? Friday\n"
     ]
    },
    {
     "data": {
      "text/plain": [
       "\u001b[32m\"Friday\"\u001b[39m"
      ]
     },
     "execution_count": 8,
     "metadata": {},
     "output_type": "execute_result"
    }
   ],
   "source": [
    "// promt - used to get input from user \n",
    "// allow the user to enter in answer to questions\n",
    "//e.g what day of the week is it? Friday\n",
    "prompt(\"What day?\")"
   ]
  },
  {
   "cell_type": "code",
   "execution_count": 13,
   "id": "54ac1673-25e9-45d4-a508-85a05cbdb0c4",
   "metadata": {},
   "outputs": [],
   "source": [
    "// variables \n",
    "let name; \n",
    "// name convention - \"camelCasing\"\n",
    "let dayofweek;\n",
    "let happiestDay;\n",
    "let endOfWeek;\n",
    "// bad name for variables\n",
    "let XXXXX_YYYY_afdfsdf; // day of week\n",
    "// let my Name; //invalid name - spaces are not allowed;\n",
    "// let 123; // invalid name - can't be all numbers\n",
    "//  let :); // invalid name\n",
    "// can only use alphanumeric "
   ]
  },
  {
   "cell_type": "code",
   "execution_count": 12,
   "id": "30d4b4bb-0989-4b58-aa4a-0994b2c06147",
   "metadata": {},
   "outputs": [
    {
     "name": "stdin",
     "output_type": "stream",
     "text": [
      "What day? Friday\n"
     ]
    },
    {
     "name": "stdout",
     "output_type": "stream",
     "text": [
      "The day of the week is  Friday\n"
     ]
    }
   ],
   "source": [
    "let dayofweek = prompt(\"What day?\");\n",
    "console.log(\"The day of the week is \", dayofweek);"
   ]
  },
  {
   "cell_type": "code",
   "execution_count": 20,
   "id": "8e9e6004-517f-4511-818d-ccb7e1179db5",
   "metadata": {},
   "outputs": [
    {
     "name": "stdout",
     "output_type": "stream",
     "text": [
      "12345\n",
      "\u001b[33m12345\u001b[39m\n",
      "Data: \u001b[33m12345\u001b[39m 12345 \u001b[33m12.34\u001b[39m\n",
      "Price = $12.34\n"
     ]
    }
   ],
   "source": [
    "// other uses of variables\n",
    "let myNumber = 12345;\n",
    "let myString = \"12345\";\n",
    "console.log(myString);\n",
    "console.log(myNumber);\n",
    "let myDecimal = 12.34;\n",
    "console.log(\"Data:\", myNumber, myString, myDecimal);\n",
    "console.log(`Price = $${myDecimal}`);"
   ]
  },
  {
   "cell_type": "code",
   "execution_count": 21,
   "id": "16594dc9-50ce-44ad-a31e-1cb875f7d614",
   "metadata": {},
   "outputs": [
    {
     "ename": "ReferenceError",
     "evalue": "notAvariable is not defined",
     "output_type": "error",
     "traceback": [
      "Stack trace:",
      "ReferenceError: notAvariable is not defined",
      "    at <anonymous>:2:13"
     ]
    }
   ],
   "source": [
    "// what if a variable is not \"declare\"?\n",
    "console.log(notAvariable);"
   ]
  },
  {
   "cell_type": "code",
   "execution_count": 36,
   "id": "12efdbd8-6c87-42b0-b83d-4be538e08f24",
   "metadata": {},
   "outputs": [
    {
     "ename": "Expected ',', got '}' at file:///repl.tsx:5:25\n\n  console.log(`${myMonth}`}\n                          ~",
     "evalue": "Expected ',', got '}' at file:///repl.tsx:5:25\n\n  console.log(`${myMonth}`}\n                          ~",
     "output_type": "error",
     "traceback": []
    }
   ],
   "source": []
  },
  {
   "cell_type": "code",
   "execution_count": 35,
   "id": "68916584-7102-46ed-9b77-57676267330a",
   "metadata": {},
   "outputs": [
    {
     "name": "stdin",
     "output_type": "stream",
     "text": [
      "Your firsr name: xvxv\n",
      "Your last name: fngng\n"
     ]
    },
    {
     "name": "stdout",
     "output_type": "stream",
     "text": [
      "xvxv.fngng@nscc.ca\n"
     ]
    }
   ],
   "source": [
    "let fName = prompt(\"Your firsr name:\");\n",
    "let lName = prompt(\"Your last name:\");\n",
    "console.log(`${fName}.${lName}@nscc.ca`);\n"
   ]
  },
  {
   "cell_type": "code",
   "execution_count": 1,
   "id": "cfc8ea9f-c84d-4ce9-8f4d-a0d9934e752c",
   "metadata": {},
   "outputs": [
    {
     "name": "stdout",
     "output_type": "stream",
     "text": [
      "The day: \u001b[33m9\u001b[39m / \u001b[33m19\u001b[39m / \u001b[33m2025\u001b[39m\n",
      "dfgdfg 19\n"
     ]
    }
   ],
   "source": [
    "let myDay = 19;\n",
    "let myMonth = 9;\n",
    "let myYear = 2025;\n",
    "console.log(\"The day:\", myMonth, \"/\", myDay, \"/\", myYear);\n",
    "console.log(`dfgdfg ${myDay}`);\n",
    "    "
   ]
  },
  {
   "cell_type": "code",
   "execution_count": 5,
   "id": "8f3c6e72-90d7-4d61-b70f-478a7d42206a",
   "metadata": {},
   "outputs": [
    {
     "name": "stdout",
     "output_type": "stream",
     "text": [
      "hello world!\n"
     ]
    }
   ],
   "source": [
    "let text = \"Hello world!\"; ;\n",
    "\"concatenate\" + \"strings\";\n",
    "text = \"hello \" + \"world\";\n",
    "text = text + \"!\";\n",
    "console.log(text);"
   ]
  },
  {
   "cell_type": "code",
   "execution_count": 7,
   "id": "149ba4a3-cf4d-4f53-94c0-51dc6d79977b",
   "metadata": {},
   "outputs": [
    {
     "name": "stdout",
     "output_type": "stream",
     "text": [
      "5685 Leed St\n",
      "Price = 123.45\n"
     ]
    }
   ],
   "source": [
    "// concatenate string and numbers\n",
    "let address = 5685 + \" Leed St\";\n",
    "console.log(address);\n",
    "let price = \"Price = \" + 123.45;\n",
    "console.log(price);"
   ]
  },
  {
   "cell_type": "code",
   "execution_count": 9,
   "id": "1e0ca0b7-5a3b-4735-b2be-40fcdc3b8b63",
   "metadata": {},
   "outputs": [
    {
     "name": "stdout",
     "output_type": "stream",
     "text": [
      "Sum = 12\n",
      "Sum = 3\n"
     ]
    }
   ],
   "source": [
    "// when things can go wrong\n",
    "let answer = \"Sum = \" + 1 + 2;\n",
    "console.log(answer);\n",
    "answer = \"Sum = \" + (1 + 2);\n",
    "console.log(answer);"
   ]
  },
  {
   "cell_type": "code",
   "execution_count": 10,
   "id": "3a690141-65ca-46ca-9124-a677ecdaf34f",
   "metadata": {},
   "outputs": [
    {
     "name": "stdout",
     "output_type": "stream",
     "text": [
      "Total cost =  1.23\n"
     ]
    }
   ],
   "source": [
    "// variable expansion / template literal\n",
    "let cost = 1.23;\n",
    "let text = \"cost = \" ;\n",
    "let statement = `Total ${text} ${cost}`;\n",
    "console.log(statement);"
   ]
  },
  {
   "cell_type": "code",
   "execution_count": 12,
   "id": "4e7cad5a-6a48-4055-a8e2-fd4aab36bfbe",
   "metadata": {},
   "outputs": [
    {
     "data": {
      "text/plain": [
       "\u001b[32m\"<h1>Sum = 2</h>\"\u001b[39m"
      ]
     },
     "execution_count": 12,
     "metadata": {},
     "output_type": "execute_result"
    }
   ],
   "source": [
    "//  expression expansion\n",
    "`${\"hello\" + 666}`;\n",
    "`<h1>Sum = ${1+1}</h>`;\n"
   ]
  },
  {
   "cell_type": "code",
   "execution_count": 14,
   "id": "81eaf1a7-7169-45e9-b777-821ac0b6b8d5",
   "metadata": {},
   "outputs": [
    {
     "data": {
      "text/plain": [
       "\u001b[32m\"dog\"\u001b[39m"
      ]
     },
     "execution_count": 14,
     "metadata": {},
     "output_type": "execute_result"
    }
   ],
   "source": [
    "//  substring\n",
    "\"cat dog mouse\".substring(4,7);"
   ]
  },
  {
   "cell_type": "code",
   "execution_count": 15,
   "id": "1472448a-46b3-41c9-9d2c-3ca068472144",
   "metadata": {},
   "outputs": [
    {
     "data": {
      "text/plain": [
       "\u001b[32m\"-+-+-+-+-+-+-+-+-+-+\"\u001b[39m"
      ]
     },
     "execution_count": 15,
     "metadata": {},
     "output_type": "execute_result"
    }
   ],
   "source": [
    "\"-+\".repeat(10);\n"
   ]
  },
  {
   "cell_type": "code",
   "execution_count": 16,
   "id": "6330f0ea-f10f-4893-bf43-7aff29f91607",
   "metadata": {},
   "outputs": [
    {
     "data": {
      "text/plain": [
       "\u001b[32m\"string\"\u001b[39m"
      ]
     },
     "execution_count": 16,
     "metadata": {},
     "output_type": "execute_result"
    }
   ],
   "source": [
    "typeof \"Hello world\";"
   ]
  },
  {
   "cell_type": "code",
   "execution_count": 17,
   "id": "3c9272e1-a0fa-4902-83e1-f8f7a76e15b8",
   "metadata": {},
   "outputs": [
    {
     "data": {
      "text/plain": [
       "\u001b[32m\"number\"\u001b[39m"
      ]
     },
     "execution_count": 17,
     "metadata": {},
     "output_type": "execute_result"
    }
   ],
   "source": [
    "typeof 123.45;"
   ]
  },
  {
   "cell_type": "code",
   "execution_count": 22,
   "id": "76fedfd3-ec86-4017-ac9f-e65c4f923a1a",
   "metadata": {},
   "outputs": [
    {
     "data": {
      "text/plain": [
       "\u001b[33mtrue\u001b[39m"
      ]
     },
     "execution_count": 22,
     "metadata": {},
     "output_type": "execute_result"
    }
   ],
   "source": [
    "//  you can override TypeScript's \"brain\" to tell it the data type\n",
    "Number(\"123\");\n",
    "String(123);\n",
    "Boolean(3);"
   ]
  },
  {
   "cell_type": "code",
   "execution_count": 23,
   "id": "80bd91ed-2bcd-4fed-9d5c-b0ba14447687",
   "metadata": {},
   "outputs": [
    {
     "name": "stdin",
     "output_type": "stream",
     "text": [
      "Enter a number:  5\n"
     ]
    },
    {
     "data": {
      "text/plain": [
       "\u001b[32m\"5\"\u001b[39m"
      ]
     },
     "execution_count": 23,
     "metadata": {},
     "output_type": "execute_result"
    }
   ],
   "source": [
    "// getting input from the user of a particular data type\n",
    "prompt(\"Enter a number: \");"
   ]
  },
  {
   "cell_type": "code",
   "execution_count": 26,
   "id": "e75b5d25-8b02-4fda-93ba-e1b54077a966",
   "metadata": {},
   "outputs": [
    {
     "name": "stdin",
     "output_type": "stream",
     "text": [
      "Enter a number =  dasds\n"
     ]
    },
    {
     "name": "stdout",
     "output_type": "stream",
     "text": [
      "\u001b[33m0\u001b[39m\n"
     ]
    }
   ],
   "source": [
    "let userNumber = parseInt(prompt(\"Enter a number = \")) || 0;\n",
    "console.log(userNumber);"
   ]
  },
  {
   "cell_type": "code",
   "execution_count": 27,
   "id": "9f7c025f-52ab-4dc7-95ea-4ad943bc2817",
   "metadata": {},
   "outputs": [
    {
     "data": {
      "text/plain": [
       "\u001b[33m8\u001b[39m"
      ]
     },
     "execution_count": 27,
     "metadata": {},
     "output_type": "execute_result"
    }
   ],
   "source": [
    "4 % 3 // modulus division (remainder)\n",
    "2 ** 3 // 2 cubed = 2 x 2 x 2"
   ]
  },
  {
   "cell_type": "code",
   "execution_count": 28,
   "id": "8f5d78f0-a197-4102-a10e-de288bea7554",
   "metadata": {},
   "outputs": [],
   "source": [
    "// BEDMAS (order of operations)\n",
    "// B - Brackets\n",
    "//  E - Exponents\n",
    "//  D / M - division and multiplication\n",
    "//  A / S - addition and subtraction\n"
   ]
  },
  {
   "cell_type": "code",
   "execution_count": 29,
   "id": "27e0fa82-cb10-4f37-8779-6526b485eab0",
   "metadata": {},
   "outputs": [
    {
     "data": {
      "text/plain": [
       "\u001b[33m5\u001b[39m"
      ]
     },
     "execution_count": 29,
     "metadata": {},
     "output_type": "execute_result"
    }
   ],
   "source": [
    "//square root\n",
    "25 ** 0.5"
   ]
  },
  {
   "cell_type": "code",
   "execution_count": 30,
   "id": "bd50b890-91b6-4eb5-9324-c18f1f81382c",
   "metadata": {},
   "outputs": [
    {
     "data": {
      "text/plain": [
       "\u001b[33m1\u001b[39m"
      ]
     },
     "execution_count": 30,
     "metadata": {},
     "output_type": "execute_result"
    }
   ],
   "source": [
    "// assignment operations\n",
    "let a = 1;\n",
    "a = a + 1;\n",
    "a += 1;\n",
    "a ++\n",
    "a = a - 1;\n",
    "a -= 1;\n",
    "a --\n",
    "a = a * 1;\n",
    "a *= 1;\n",
    "a = a / 1;\n",
    "a /= 1;"
   ]
  },
  {
   "cell_type": "code",
   "execution_count": 33,
   "id": "6562a9ef-b663-4899-a951-6d614d76f6a2",
   "metadata": {},
   "outputs": [
    {
     "data": {
      "text/plain": [
       "\u001b[33m5\u001b[39m"
      ]
     },
     "execution_count": 33,
     "metadata": {},
     "output_type": "execute_result"
    }
   ],
   "source": [
    " //  math functions\n",
    "Math.pow(2, 3);\n",
    "Math.sqrt(25);\n",
    "// Math.PI;\n",
    "// Math.floor(3.45);\n",
    "// Math.ceil(3.45);\n",
    "// Math.round(3.45);"
   ]
  },
  {
   "cell_type": "code",
   "execution_count": null,
   "id": "fb991347-2914-4d77-a974-f4e6bfc02d89",
   "metadata": {},
   "outputs": [],
   "source": []
  }
 ],
 "metadata": {
  "kernelspec": {
   "display_name": "Deno",
   "language": "typescript",
   "name": "deno"
  },
  "language_info": {
   "codemirror_mode": "typescript",
   "file_extension": ".ts",
   "mimetype": "text/x.typescript",
   "name": "typescript",
   "nbconvert_exporter": "script",
   "pygments_lexer": "typescript",
   "version": "5.9.2"
  }
 },
 "nbformat": 4,
 "nbformat_minor": 5
}
