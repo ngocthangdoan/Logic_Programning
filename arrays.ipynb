{
 "cells": [
  {
   "cell_type": "code",
   "execution_count": 1,
   "id": "6ae399e2",
   "metadata": {},
   "outputs": [
    {
     "name": "stdout",
     "output_type": "stream",
     "text": [
      "Hello world\n"
     ]
    }
   ],
   "source": [
    "console.log(\"Hello world\");"
   ]
  },
  {
   "cell_type": "code",
   "execution_count": 9,
   "id": "bf41aa42",
   "metadata": {},
   "outputs": [
    {
     "ename": "ReferenceError",
     "evalue": "Cannot access 'username1' before initialization",
     "output_type": "error",
     "traceback": [
      "Stack trace:",
      "ReferenceError: Cannot access 'username1' before initialization",
      "    at eval (eval at <anonymous> (:8:3), <anonymous>:1:13)",
      "    at <anonymous>:8:3"
     ]
    }
   ],
   "source": [
    "let username1 = \"Mike\";\n",
    "let username2 = \"Anna\";\n",
    "let username3 = \"John\";\n",
    "let username4 = \"Sara\";\n",
    "let username5 = \"Tom\";\n",
    "\n",
    "for (let i = 1; i <= 5; i++) {\n",
    "    // console.log(\"Welcome \" + eval(\"username\" + i));\n",
    "    eval(`console.log(username${i})`);\n",
    "}\n",
    "// eval(\"console\" + \".log(\" + \"'hello'\" +\");\");"
   ]
  },
  {
   "cell_type": "code",
   "execution_count": null,
   "id": "fe018505",
   "metadata": {},
   "outputs": [
    {
     "name": "stdout",
     "output_type": "stream",
     "text": [
      "Mike\n",
      "Anna\n",
      "John\n",
      "Sara\n",
      "Tom\n",
      "[ \"jane\", \"Anna\", \"John\", \"Sara\", \"Tom\" ]\n",
      "5\n",
      "jane\n",
      "Anna\n",
      "John\n",
      "Sara\n",
      "Tom\n",
      "use \"of\": jane\n",
      "use \"of\": Anna\n",
      "use \"of\": John\n",
      "use \"of\": Sara\n",
      "use \"of\": Tom\n",
      "use i of:jane\n",
      "use i of:Anna\n",
      "use i of:John\n",
      "use i of:Sara\n",
      "use i of:Tom\n",
      "Anna\n",
      "John\n",
      "Sara\n",
      "Tom\n",
      "[ \"jane\", \"Anna\", \"John\", \"Sara\", \"Tom\" ]\n",
      "5\n",
      "jane\n",
      "Anna\n",
      "John\n",
      "Sara\n",
      "Tom\n",
      "use \"of\": jane\n",
      "use \"of\": Anna\n",
      "use \"of\": John\n",
      "use \"of\": Sara\n",
      "use \"of\": Tom\n",
      "use i of:jane\n",
      "use i of:Anna\n",
      "use i of:John\n",
      "use i of:Sara\n",
      "use i of:Tom\n"
     ]
    }
   ],
   "source": [
    "// basic array\n",
    "let usernames = [\"Mike\", \"Anna\", \"John\", \"Sara\", \"Tom\"];\n",
    "\n",
    "for (let i=0; i<5; i++) {\n",
    "    console.log(usernames[i]);\n",
    "}\n",
    "usernames[0] = \"jane\";\n",
    "console.log(usernames);\n",
    "console.log(usernames.length);\n",
    "\n",
    "for (let i=0; i<usernames.length; i++) {\n",
    "    console.log(usernames[i]);\n",
    "}\n",
    "\n",
    "//best\n",
    "for (const username of usernames) {\n",
    "    console.log('use \"of\": ' + username);\n",
    "}\n",
    "\n",
    "for (let i of usernames) {\n",
    "    console.log(\"use i of:\" + i);\n",
    "}\n",
    "\n",
    "// compare declare const and let variable in loop\n"
   ]
  },
  {
   "cell_type": "code",
   "execution_count": 27,
   "id": "3c0879e4",
   "metadata": {},
   "outputs": [
    {
     "name": "stdout",
     "output_type": "stream",
     "text": [
      "[ \"jane\", \"Anna\", \"John\", \"Sara\", \"Tom\", \"john\" ]\n",
      "[\n",
      "  \"mary\", \"jane\",\n",
      "  \"Anna\", \"John\",\n",
      "  \"Sara\", \"Tom\",\n",
      "  \"john\"\n",
      "]\n",
      "[\n",
      "  \"mary\", \"jane\",\n",
      "  \"Anna\", \"John\",\n",
      "  \"Sara\", \"Tom\",\n",
      "  \"john\"\n",
      "]\n",
      "[\n",
      "  \"anna\", \"mary\",\n",
      "  \"jane\", \"Anna\",\n",
      "  \"John\", \"Sara\",\n",
      "  \"Tom\",  \"john\",\n",
      "  \"jack\", \"shadow\"\n",
      "]\n",
      "[\n",
      "  \"mary\", \"jane\",\n",
      "  \"Anna\", \"John\",\n",
      "  \"Sara\", \"Tom\",\n",
      "  \"john\"\n",
      "]\n",
      "[\n",
      "  \"mary\", \"jane\",\n",
      "  \"Anna\", \"John\",\n",
      "  \"Sara\", \"Tom\",\n",
      "  \"john\"\n",
      "]\n",
      "[\n",
      "  \"anna\", \"mary\",\n",
      "  \"jane\", \"Anna\",\n",
      "  \"John\", \"Sara\",\n",
      "  \"Tom\",  \"john\",\n",
      "  \"jack\", \"shadow\"\n",
      "]\n"
     ]
    }
   ],
   "source": [
    "let usernames = [\"Mike\", \"Anna\", \"John\", \"Sara\", \"Tom\"];\n",
    "\n",
    "//modify a single element of the array\n",
    "usernames[0] = \"jane\";\n",
    "\n",
    "// add another name to the end of the array\n",
    "usernames.push(\"john\");\n",
    "// usernames.push(\"jill\");\n",
    "console.log(usernames);\n",
    "\n",
    "// add to the beginning of the array\n",
    "usernames.unshift(\"mary\");\n",
    "\n",
    "console.log(usernames);\n",
    "\n",
    "// destructuring\n",
    "let babynames = [...usernames]\n",
    "console.log(babynames);\n",
    "\n",
    "babynames = [\"anna\", ...usernames, \"jack\", \"shadow\"];\n",
    "console.log(babynames);"
   ]
  },
  {
   "cell_type": "code",
   "execution_count": null,
   "id": "839f289d",
   "metadata": {},
   "outputs": [
    {
     "ename": "Expression expected at file:///repl.tsx:5:2\n\n  [...usernames.slice(0,2),\"jill\",...usernames.slice(2)]\n   ~~~",
     "evalue": "Expression expected at file:///repl.tsx:5:2\n\n  [...usernames.slice(0,2),\"jill\",...usernames.slice(2)]\n   ~~~",
     "output_type": "error",
     "traceback": []
    }
   ],
   "source": [
    "let usernames = [\"Mike\", \"Anna\", \"John\", \"Sara\", \"Tom\"];\n",
    "// slicing\n",
    "console.log(usernames.slice(0, 2));\n",
    "console.log(usernames.slice(2));\n",
    "[...usernames.slice(0,2),\"jill\",...usernames.slice(2)]"
   ]
  },
  {
   "cell_type": "code",
   "execution_count": 34,
   "id": "0329c8f9",
   "metadata": {},
   "outputs": [
    {
     "name": "stdout",
     "output_type": "stream",
     "text": [
      "Tom\n",
      "[ \"Mike\", \"Anna\", \"John\", \"Sara\" ]\n",
      "[ \"Mike\", \"Anna\", \"John\", \"Sara\" ]\n"
     ]
    }
   ],
   "source": [
    "let usernames = [\"Mike\", \"Anna\", \"John\", \"Sara\", \"Tom\"];\n",
    "\n",
    "let item = usernames.pop();\n",
    "console.log(item);\n",
    "console.log(usernames);"
   ]
  },
  {
   "cell_type": "code",
   "execution_count": 35,
   "id": "039be1e5",
   "metadata": {},
   "outputs": [
    {
     "data": {
      "text/plain": [
       "\u001b[32m\"Mike\"\u001b[39m"
      ]
     },
     "execution_count": 35,
     "metadata": {},
     "output_type": "execute_result"
    }
   ],
   "source": [
    "let usernames = [\"Mike\", \"Anna\", \"John\", \"Sara\", \"Tom\"];\n",
    "\n",
    "//remove item from front of array\n",
    "usernames.shift();\n"
   ]
  },
  {
   "cell_type": "code",
   "execution_count": 38,
   "id": "91cb02d3",
   "metadata": {},
   "outputs": [
    {
     "name": "stdout",
     "output_type": "stream",
     "text": [
      "[ \"Anna\", \"John\", \"Sara\", \"Tom\" ]\n",
      "[ \"Mike\", \"Anna\", \"John\", \"Sara\", \"Tom\" ]\n",
      "[ \"Mike\", \"Anna\", \"John\", \"Sara\" ]\n",
      "[ \"Mike\", \"Anna\", \"John\", \"Sara\", \"Tom\" ]\n",
      "[ \"Mike\", \"Anna\", \"John\", \"Sara\" ]\n"
     ]
    }
   ],
   "source": [
    "//                 -5      -4      -3       -2    -1\n",
    "let usernames = [\"Mike\", \"Anna\", \"John\", \"Sara\", \"Tom\"];\n",
    "\n",
    "// using slicing to remove items\n",
    "console.log(usernames.slice(1));\n",
    "console.log(usernames);\n",
    "console.log(usernames.slice(0,-1))"
   ]
  },
  {
   "cell_type": "code",
   "execution_count": null,
   "id": "177bc2c4",
   "metadata": {},
   "outputs": [
    {
     "data": {
      "text/plain": [
       "[ \u001b[32m\"Mike\"\u001b[39m, \u001b[32m\"John\"\u001b[39m, \u001b[32m\"Sara\"\u001b[39m, \u001b[32m\"Tom\"\u001b[39m ]"
      ]
     },
     "execution_count": 42,
     "metadata": {},
     "output_type": "execute_result"
    }
   ],
   "source": [
    "//                 -5      -4      -3       -2    -1\n",
    "let usernames = [\"Mike\", \"Anna\", \"John\", \"Sara\", \"Tom\"];\n",
    "\n",
    "//using slicing to remove an element and create a new array\n",
    "[...usernames.slice(0, 1),...usernames.slice(2)];\n",
    "\n",
    "// using splicing to remove an element and modify the original array\n",
    "usernames.splice(1,1);\n",
    "usernames;"
   ]
  },
  {
   "cell_type": "code",
   "execution_count": 45,
   "id": "be53f719",
   "metadata": {},
   "outputs": [
    {
     "name": "stdout",
     "output_type": "stream",
     "text": [
      "[ \"apple\", \"banana\", \"orange\", \"grapefruit\", \"watermelon\" ]\n",
      "1\n",
      "1\n",
      "1\n",
      "1\n"
     ]
    }
   ],
   "source": [
    "// find an item in the array\n",
    "let fruit = [\"apple\", \"banana\", \"orange\", \"grapefruit\", \"watermelon\"];\n",
    "console.log(fruit);\n",
    "// locate position (index) of item\n",
    "console.log(fruit.indexOf(\"banana\"));\n",
    "\n",
    "// more powerful, but will be looked at later\n",
    "console.log(fruit.findIndex(f => f === 'banana'));"
   ]
  },
  {
   "cell_type": "code",
   "execution_count": 51,
   "id": "cfedd382",
   "metadata": {},
   "outputs": [
    {
     "name": "stdout",
     "output_type": "stream",
     "text": [
      "undefined\n",
      "[ 1, 2, 3 ]\n",
      "2\n",
      "8\n",
      "[ 1, 2, 3 ]\n",
      "2\n",
      "8\n"
     ]
    }
   ],
   "source": [
    "// arrays can contain any data type\n",
    "\n",
    "let num = [1,2,3,4,5];\n",
    "let decimals = [1.1, 2.2, 3.3];\n",
    "let bools = [true, false, true, 1<5, 5===6];\n",
    "let mixed = [1, 1.1, \"hello\", true, null, undefined, [1,2,3], {name: \"mike\"}, [4,5, [6,7,8]]];\n",
    "\n",
    "console.log(mixed[5]);\n",
    "console.log(mixed[6]);\n",
    "console.log(mixed[6][1]);\n",
    "console.log(mixed[8][2][2]);"
   ]
  },
  {
   "cell_type": "code",
   "execution_count": 53,
   "id": "e9b81d29",
   "metadata": {},
   "outputs": [
    {
     "name": "stdout",
     "output_type": "stream",
     "text": [
      "3\n"
     ]
    }
   ],
   "source": [
    "// multi-dimention arrays!\n",
    "let  twoDimentional = [[1,2,3], [4,5,6]];\n",
    "console.log(twoDimentional[0][2]);"
   ]
  },
  {
   "cell_type": "code",
   "execution_count": 84,
   "id": "a62d4f1e",
   "metadata": {},
   "outputs": [
    {
     "name": "stdout",
     "output_type": "stream",
     "text": [
      "3\n",
      " 1 2 X\n",
      " 4 5 6\n",
      " 7 8 9\n",
      " 1 2 X\n",
      " 4 5 6\n",
      " 7 8 9\n"
     ]
    }
   ],
   "source": [
    "// tic tac toe\n",
    "\n",
    "let grid = [\n",
    "    ['1', '2', '3'],\n",
    "    ['4', '5', '6'],\n",
    "    ['7', '8', '9']\n",
    "]\n",
    "\n",
    "// for (const r of grid) {\n",
    "//     let gridRow = \"\";\n",
    "//     for (const c of r) {\n",
    "//         gridRow +=` ${c}`;\n",
    "//         // console.log(c);\n",
    "//     }\n",
    "//     console.log(gridRow);\n",
    "// }\n",
    "\n",
    "// ask user for choice\n",
    "let choice = prompt(\"Enter your choice (1-9): \");\n",
    "console.log(choice);\n",
    "let row = Number(Math.floor((choice-1)/ 3));\n",
    "let column = (choice-1) % 3;\n",
    "grid[row][column] = 'X';\n",
    "// console.log(grid[row][column]);\n",
    "\n",
    "for (const r of grid) {\n",
    "    let gridRow = \"\";\n",
    "    for (const c of r) {\n",
    "        gridRow +=` ${c}`;\n",
    "        // console.log(c);\n",
    "    }\n",
    "    console.log(gridRow);\n",
    "}"
   ]
  },
  {
   "cell_type": "code",
   "execution_count": null,
   "id": "f78419c7",
   "metadata": {},
   "outputs": [],
   "source": []
  },
  {
   "cell_type": "code",
   "execution_count": null,
   "id": "39db1960",
   "metadata": {},
   "outputs": [],
   "source": []
  }
 ],
 "metadata": {
  "kernelspec": {
   "display_name": "Deno",
   "language": "typescript",
   "name": "deno"
  },
  "language_info": {
   "codemirror_mode": "typescript",
   "file_extension": ".ts",
   "mimetype": "text/x.typescript",
   "name": "typescript",
   "nbconvert_exporter": "script",
   "pygments_lexer": "typescript",
   "version": "5.9.2"
  }
 },
 "nbformat": 4,
 "nbformat_minor": 5
}
