{
 "cells": [
  {
   "cell_type": "code",
   "execution_count": 1,
   "id": "6ae399e2",
   "metadata": {},
   "outputs": [
    {
     "name": "stdout",
     "output_type": "stream",
     "text": [
      "Hello world\n"
     ]
    }
   ],
   "source": [
    "console.log(\"Hello world\");"
   ]
  },
  {
   "cell_type": "code",
   "execution_count": null,
   "id": "b9daa753",
   "metadata": {},
   "outputs": [],
   "source": [
    "let num = 123;\n",
    "while (num>0) {\n",
    "    num--;\n",
    "    fot (i=0; i<1000; i++) {\n",
    "}"
   ]
  },
  {
   "cell_type": "markdown",
   "id": "539b2393",
   "metadata": {},
   "source": [
    "jljljlkjl\n",
    "\n"
   ]
  },
  {
   "cell_type": "code",
   "execution_count": null,
   "id": "bf41aa42",
   "metadata": {},
   "outputs": [],
   "source": []
  }
 ],
 "metadata": {
  "kernelspec": {
   "display_name": "Deno",
   "language": "typescript",
   "name": "deno"
  },
  "language_info": {
   "codemirror_mode": "typescript",
   "file_extension": ".ts",
   "mimetype": "text/x.typescript",
   "name": "typescript",
   "nbconvert_exporter": "script",
   "pygments_lexer": "typescript",
   "version": "5.9.2"
  }
 },
 "nbformat": 4,
 "nbformat_minor": 5
}
