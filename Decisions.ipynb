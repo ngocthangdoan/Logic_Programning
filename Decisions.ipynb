{
 "cells": [
  {
   "cell_type": "code",
   "execution_count": 1,
   "id": "f448025e-f82d-42b5-9b6e-a7ced26ca759",
   "metadata": {},
   "outputs": [],
   "source": [
    "let isSunny = true;\n",
    "let isRaining = false;\n",
    "let isSunny2: boolean = true;\n",
    "let isRaining2: boolean = false;"
   ]
  },
  {
   "cell_type": "code",
   "execution_count": 2,
   "id": "cb9d4e5e-705e-401d-ac8c-4fedef354e44",
   "metadata": {},
   "outputs": [],
   "source": [
    "// NOT a boolean value\n",
    "let notABoolean = \"true\";\n",
    "let alsoNotABoolean = 1;\n"
   ]
  },
  {
   "cell_type": "code",
   "execution_count": 4,
   "id": "7079f69a-318c-4902-bea5-3b3bb5263dbb",
   "metadata": {},
   "outputs": [
    {
     "name": "stdout",
     "output_type": "stream",
     "text": [
      "\u001b[33mfalse\u001b[39m\n",
      "\u001b[33mtrue\u001b[39m\n"
     ]
    }
   ],
   "source": [
    "// can make a boolean from other values\n",
    "let aBoolean = !\"Hello\";\n",
    "console.log(aBoolean);\n",
    "aBoolean = !!42;\n",
    "console.log(aBoolean);"
   ]
  },
  {
   "cell_type": "code",
   "execution_count": 10,
   "id": "2e95a7eb-4125-42a5-9348-8ea4c62d4409",
   "metadata": {},
   "outputs": [
    {
     "name": "stdout",
     "output_type": "stream",
     "text": [
      "\u001b[33mfalse\u001b[39m\n"
     ]
    }
   ],
   "source": [
    "let a = 1;\n",
    "let b = 2;\n",
    "a !== b;\n",
    "console.log(a===b);"
   ]
  },
  {
   "cell_type": "code",
   "execution_count": 7,
   "id": "a05661d9-fffa-45d9-9a98-5d6a1d9c719d",
   "metadata": {},
   "outputs": [
    {
     "data": {
      "text/plain": [
       "\u001b[33mfalse\u001b[39m"
      ]
     },
     "execution_count": 7,
     "metadata": {},
     "output_type": "execute_result"
    }
   ],
   "source": [
    "\"abc\" === \"123\";"
   ]
  },
  {
   "cell_type": "code",
   "execution_count": 8,
   "id": "012d6159-ab04-4d2b-a471-6b4621602f41",
   "metadata": {},
   "outputs": [
    {
     "data": {
      "text/plain": [
       "\u001b[33mtrue\u001b[39m"
      ]
     },
     "execution_count": 8,
     "metadata": {},
     "output_type": "execute_result"
    }
   ],
   "source": [
    "\"apple\" < \"banana\";"
   ]
  },
  {
   "cell_type": "code",
   "execution_count": 9,
   "id": "57e4ee08-aa71-45a5-9ade-7d4721a6275b",
   "metadata": {},
   "outputs": [
    {
     "data": {
      "text/plain": [
       "\u001b[33mtrue\u001b[39m"
      ]
     },
     "execution_count": 9,
     "metadata": {},
     "output_type": "execute_result"
    }
   ],
   "source": [
    "\"apple\" === \"APPLE\".toLowerCase();"
   ]
  },
  {
   "cell_type": "code",
   "execution_count": 10,
   "id": "97b9a066-3e9a-4703-833d-6b78a22fa323",
   "metadata": {},
   "outputs": [
    {
     "data": {
      "text/plain": [
       "\u001b[33mtrue\u001b[39m"
      ]
     },
     "execution_count": 10,
     "metadata": {},
     "output_type": "execute_result"
    }
   ],
   "source": [
    "\"apple\".toUpperCase() === \"APPLE\";"
   ]
  },
  {
   "cell_type": "code",
   "execution_count": 2,
   "id": "e788e382-a5d1-4e18-a224-11f9624c027e",
   "metadata": {},
   "outputs": [
    {
     "data": {
      "text/plain": [
       "\u001b[33mtrue\u001b[39m"
      ]
     },
     "execution_count": 2,
     "metadata": {},
     "output_type": "execute_result"
    }
   ],
   "source": [
    "\"apPle\".toLowerCase() === \"apple\";"
   ]
  },
  {
   "cell_type": "code",
   "execution_count": 4,
   "id": "385f360d-5b1f-4389-a521-6624307832fa",
   "metadata": {},
   "outputs": [
    {
     "data": {
      "text/plain": [
       "\u001b[33mtrue\u001b[39m"
      ]
     },
     "execution_count": 4,
     "metadata": {},
     "output_type": "execute_result"
    }
   ],
   "source": [
    "Boolean(0) === false;"
   ]
  },
  {
   "cell_type": "code",
   "execution_count": 14,
   "id": "3ff83822-122e-4fa2-9715-ebb78b4c3b9f",
   "metadata": {},
   "outputs": [
    {
     "data": {
      "text/plain": [
       "\u001b[33mtrue\u001b[39m"
      ]
     },
     "execution_count": 14,
     "metadata": {},
     "output_type": "execute_result"
    }
   ],
   "source": [
    "0 == false;"
   ]
  },
  {
   "cell_type": "code",
   "execution_count": 15,
   "id": "994be92f-2bc0-4e54-baa4-f0b5ff7e2489",
   "metadata": {},
   "outputs": [
    {
     "data": {
      "text/plain": [
       "\u001b[33mfalse\u001b[39m"
      ]
     },
     "execution_count": 15,
     "metadata": {},
     "output_type": "execute_result"
    }
   ],
   "source": [
    "0 === false;"
   ]
  },
  {
   "cell_type": "code",
   "execution_count": 16,
   "id": "83c3791c-fabe-4d87-ac53-260a7076052b",
   "metadata": {},
   "outputs": [
    {
     "data": {
      "text/plain": [
       "\u001b[33m1\u001b[39m"
      ]
     },
     "execution_count": 16,
     "metadata": {},
     "output_type": "execute_result"
    }
   ],
   "source": [
    "Number(true);"
   ]
  },
  {
   "cell_type": "code",
   "execution_count": 17,
   "id": "f93aca00-6d3e-4d26-9d03-52b31cee5414",
   "metadata": {},
   "outputs": [
    {
     "data": {
      "text/plain": [
       "\u001b[33m0\u001b[39m"
      ]
     },
     "execution_count": 17,
     "metadata": {},
     "output_type": "execute_result"
    }
   ],
   "source": [
    "Number(false);"
   ]
  },
  {
   "cell_type": "code",
   "execution_count": 18,
   "id": "05bd0063-fb65-4965-b2f4-b7966148171b",
   "metadata": {},
   "outputs": [
    {
     "data": {
      "text/plain": [
       "\u001b[33mtrue\u001b[39m"
      ]
     },
     "execution_count": 18,
     "metadata": {},
     "output_type": "execute_result"
    }
   ],
   "source": [
    "Boolean(\"abc\") === true // do this"
   ]
  },
  {
   "cell_type": "code",
   "execution_count": 19,
   "id": "1f34ed1e-8e9e-4e10-aeb3-c31b9ea8820d",
   "metadata": {},
   "outputs": [
    {
     "data": {
      "text/plain": [
       "\u001b[33mfalse\u001b[39m"
      ]
     },
     "execution_count": 19,
     "metadata": {},
     "output_type": "execute_result"
    }
   ],
   "source": [
    "\"abc\" == true // do not this"
   ]
  },
  {
   "cell_type": "code",
   "execution_count": 22,
   "id": "f4a57244-cc4c-444f-b4ec-c36a996eeb25",
   "metadata": {},
   "outputs": [
    {
     "data": {
      "text/plain": [
       "\u001b[33mfalse\u001b[39m"
      ]
     },
     "execution_count": 22,
     "metadata": {},
     "output_type": "execute_result"
    }
   ],
   "source": [
    "// float comparisions\n",
    "let answer = 1.4141414141414141414;\n",
    "Math.sqrt(2);\n",
    "answer === Math.sqrt(2); // do not use equas to compare decimals"
   ]
  },
  {
   "cell_type": "code",
   "execution_count": 21,
   "id": "855ca4c1-a6f5-4d95-893c-0e6a821dec17",
   "metadata": {},
   "outputs": [
    {
     "data": {
      "text/plain": [
       "\u001b[33m1.2312312312312312e+47\u001b[39m"
      ]
     },
     "execution_count": 21,
     "metadata": {},
     "output_type": "execute_result"
    }
   ],
   "source": [
    "123123123123123123123123123123123123123123123123.123123"
   ]
  },
  {
   "cell_type": "code",
   "execution_count": 1,
   "id": "609c7a8d-11ff-42e9-a502-87ac36ae7192",
   "metadata": {},
   "outputs": [
    {
     "name": "stdout",
     "output_type": "stream",
     "text": [
      "\u001b[33m0.30000000000000004\u001b[39m\n",
      "\u001b[33m0.3\u001b[39m\n"
     ]
    }
   ],
   "source": [
    "let a = 0.1;\n",
    "let b = 0.2;\n",
    "console.log(a+b);\n",
    "(a + b) == 0.3;\n",
    "console.log(0.3);"
   ]
  },
  {
   "cell_type": "code",
   "execution_count": 26,
   "id": "693b35de-3544-4d5e-b401-7c6e5b8169d1",
   "metadata": {},
   "outputs": [],
   "source": [
    "let s = \"arbitrarily\";"
   ]
  },
  {
   "cell_type": "code",
   "execution_count": 27,
   "id": "3ab1f7eb-a03f-4de2-ad31-9d2e6df796bf",
   "metadata": {},
   "outputs": [
    {
     "name": "stdout",
     "output_type": "stream",
     "text": [
      " !\"#$%&'()*+,-./0123456789:;<=>?@ABCDEFGHIJKLMNOPQRSTUVWXYZ[\\]^_`abcdefghijklmnopqrstuvwxyz{|}~\n"
     ]
    }
   ],
   "source": [
    "console.log(Array.from({ length: 95 }, (_, i) => String.fromCharCode(i + 32)).join(''));"
   ]
  },
  {
   "cell_type": "code",
   "execution_count": 29,
   "id": "8ea9babb-7a4d-4ac9-8f70-b9fd05c062a8",
   "metadata": {},
   "outputs": [
    {
     "name": "stdout",
     "output_type": "stream",
     "text": [
      "fjdslfjsdlfsjdflk\n",
      "sfjfksfsdk\n"
     ]
    }
   ],
   "source": [
    "// basic if statement\n",
    "let num = 5;\n",
    "if (num < 10) {\n",
    "\n",
    "\n",
    "    \n",
    "    console.log(\"fjdslfjsdlfsjdflk\"); console.log(\"sfjfksfsdk\");\n",
    "\n",
    "    \n",
    "}"
   ]
  },
  {
   "cell_type": "code",
   "execution_count": 30,
   "id": "2148bf9d-2d8d-4b38-a888-62eb33bc4379",
   "metadata": {},
   "outputs": [
    {
     "name": "stdout",
     "output_type": "stream",
     "text": [
      "fjdslfjsdlfsjdflk\n",
      "sfjfksfsdk\n"
     ]
    }
   ],
   "source": [
    "// basic if statement\n",
    "let num = 5;\n",
    "if (num < 10) {\n",
    "    console.log(\"fjdslfjsdlfsjdflk\");  // make sure to indent ! 4 spaces\n",
    "    console.log(\"sfjfksfsdk\");\n",
    "}"
   ]
  },
  {
   "cell_type": "code",
   "execution_count": 31,
   "id": "dcbff7d7-6f2d-4319-a9b0-539f372c06b1",
   "metadata": {},
   "outputs": [
    {
     "name": "stdout",
     "output_type": "stream",
     "text": [
      "fjdslfjsdlfsjdflk\n"
     ]
    }
   ],
   "source": [
    "// basic if else statement\n",
    "let num = 5;\n",
    "if (num < 10) {\n",
    "    console.log(\"fjdslfjsdlfsjdflk\"); \n",
    "} else {\n",
    "    console.log(\"fdsjfsfjsdkfjd\");\n",
    "}"
   ]
  },
  {
   "cell_type": "code",
   "execution_count": 34,
   "id": "61b3aefa-8f64-4bbe-988e-bc7f8373a5af",
   "metadata": {},
   "outputs": [
    {
     "name": "stdout",
     "output_type": "stream",
     "text": [
      "fdsjfsfjsdkfjd\n"
     ]
    }
   ],
   "source": [
    "// basic if statement\n",
    "let num = 6;\n",
    "if (num > 10) {\n",
    "    console.log(\"fjdslfjsdlfsjdflk\"); \n",
    "} else if (num > 5) {\n",
    "    console.log(\"fdsjfsfjsdkfjd\");\n",
    "} else {\n",
    "    console.log(\"flkfsdfjsd\");\n",
    "}"
   ]
  },
  {
   "cell_type": "code",
   "execution_count": 9,
   "id": "0f7749c5-65c4-4e08-8801-212b687b52a1",
   "metadata": {},
   "outputs": [
    {
     "name": "stdout",
     "output_type": "stream",
     "text": [
      " a > 5 \n"
     ]
    }
   ],
   "source": [
    "let a=6;\n",
    "if (a>10) {\n",
    "    console.log(\" a > 10 \");\n",
    "} else if (a>7) {\n",
    "    console.log(\" a > 7 \");\n",
    "} else if (a>5) {\n",
    "    console.log(\" a > 5 \");\n",
    "} else {\n",
    "    console.log(\" a <= 5 \");\n",
    "}"
   ]
  },
  {
   "cell_type": "code",
   "execution_count": 12,
   "id": "d2382433-6981-4399-bd4a-62163662e239",
   "metadata": {},
   "outputs": [
    {
     "name": "stdout",
     "output_type": "stream",
     "text": [
      "<=10\n",
      "<6\n"
     ]
    }
   ],
   "source": [
    "// nested if statement\n",
    "let num = -5;\n",
    "if (num > 10) {\n",
    "    console.log(\">10\");\n",
    "} else {\n",
    "    console.log(\"<=10\");\n",
    "    if (num<6) {\n",
    "        console.log(\"<6\");\n",
    "    } else {\n",
    "        if (num > 0) {\n",
    "            console.log(\">0\");\n",
    "        } else {\n",
    "            console.log(\"<=0\");\n",
    "        }\n",
    "    }\n",
    "}"
   ]
  },
  {
   "cell_type": "code",
   "execution_count": 14,
   "id": "a051ae1a-76aa-4e88-bc30-11db9ad9f8f0",
   "metadata": {},
   "outputs": [
    {
     "name": "stdout",
     "output_type": "stream",
     "text": [
      "violet\n"
     ]
    }
   ],
   "source": [
    "// compound if statements\n",
    "// create a program that combines two primary colours into a secondary colour\n",
    "let colour1 = \"red\";\n",
    "let colour2 = \"blue\";\n",
    "\n",
    "if (colour1 === \"red\") {\n",
    "    if (colour2 === \"yellow\") {\n",
    "        console.log(\"orange\");\n",
    "    } else if (colour2 === \"blue\") {\n",
    "        console.log(\"violet\");\n",
    "    } else {\n",
    "        console.log(\"Invalid colour choise\");\n",
    "    }\n",
    "} else {\n",
    "    console.log(\"Invalid colour choise\")\n",
    "}"
   ]
  },
  {
   "cell_type": "code",
   "execution_count": 15,
   "id": "46e0ed98-1bd6-4389-92f5-8eedb4be656d",
   "metadata": {},
   "outputs": [
    {
     "name": "stdout",
     "output_type": "stream",
     "text": [
      "orange\n"
     ]
    }
   ],
   "source": [
    "// compound if statements\n",
    "// create a program that combines two primary colours into a secondary colour\n",
    "let colour1 = \"red\";\n",
    "let colour2 = \"blue\";\n",
    "\n",
    "if (colour1 === \"red\" && colour2 === \"blue\") {\n",
    "    console.log(\"orange\");\n",
    "}"
   ]
  },
  {
   "cell_type": "code",
   "execution_count": null,
   "id": "1ebd6c6c-e79a-498e-9263-2d9b3cd960aa",
   "metadata": {},
   "outputs": [],
   "source": [
    "// LOOPS\n",
    "While (true) {\n",
    "    // Interupt Kernel: to exit loop infinity\n",
    "}"
   ]
  },
  {
   "cell_type": "code",
   "execution_count": 3,
   "id": "d0b51d12-38af-4b03-8e1d-e121e9287611",
   "metadata": {},
   "outputs": [
    {
     "name": "stdout",
     "output_type": "stream",
     "text": [
      "\u001b[33m1\u001b[39m\n",
      "\u001b[33m2\u001b[39m\n",
      "\u001b[33m3\u001b[39m\n",
      "\u001b[33m4\u001b[39m\n",
      "\u001b[33m5\u001b[39m\n",
      "\u001b[33m6\u001b[39m\n",
      "\u001b[33m7\u001b[39m\n",
      "\u001b[33m8\u001b[39m\n",
      "\u001b[33m9\u001b[39m\n",
      "\u001b[33m10\u001b[39m\n"
     ]
    }
   ],
   "source": [
    "let num = 0;\n",
    "while (num<10) {\n",
    "    num +=1;\n",
    "    console.log(num);\n",
    "}\n"
   ]
  },
  {
   "cell_type": "code",
   "execution_count": null,
   "id": "46af623a-0d5a-4049-b8a4-01f511b4cfb9",
   "metadata": {},
   "outputs": [],
   "source": [
    "i++ means \"post-increment\"    "
   ]
  },
  {
   "cell_type": "code",
   "execution_count": 15,
   "id": "b7685600-75f7-42db-8b64-bc173f319080",
   "metadata": {},
   "outputs": [
    {
     "name": "stdout",
     "output_type": "stream",
     "text": [
      "i= 0\n",
      "j= 1\n",
      "===========\n",
      "i= 1\n",
      "j= 2\n",
      "===========\n",
      "i= 2\n",
      "j= 3\n",
      "===========\n",
      "i= 3\n",
      "j= 4\n",
      "===========\n",
      "i= 4\n",
      "j= 5\n",
      "===========\n",
      "result \u001b[33m5\u001b[39m \u001b[33m5\u001b[39m\n"
     ]
    }
   ],
   "source": [
    "// ++i : pre-increment\n",
    "let i=0;\n",
    "let j=0;\n",
    "while (i<5) {\n",
    "    console.log(`i= ${i++}`);\n",
    "    console.log(`j= ${++j}`);\n",
    "    console.log(\"===========\");\n",
    "    // ++i\n",
    "    // i++;\n",
    "}\n",
    "console.log(\"result\", i, j);"
   ]
  },
  {
   "cell_type": "code",
   "execution_count": 20,
   "id": "97f7b884-1303-42fb-98c0-9820541b7475",
   "metadata": {},
   "outputs": [
    {
     "name": "stdin",
     "output_type": "stream",
     "text": [
      "Enter a number: nnk\n"
     ]
    },
    {
     "name": "stdout",
     "output_type": "stream",
     "text": [
      "userInput =  \u001b[33mNaN\u001b[39m\n"
     ]
    },
    {
     "name": "stdin",
     "output_type": "stream",
     "text": [
      "Enter a number: kjbjb\n"
     ]
    },
    {
     "name": "stdout",
     "output_type": "stream",
     "text": [
      "userInput =  \u001b[33mNaN\u001b[39m\n"
     ]
    },
    {
     "name": "stdin",
     "output_type": "stream",
     "text": [
      "Enter a number: igiuhu\n"
     ]
    },
    {
     "name": "stdout",
     "output_type": "stream",
     "text": [
      "userInput =  \u001b[33mNaN\u001b[39m\n"
     ]
    },
    {
     "name": "stdin",
     "output_type": "stream",
     "text": [
      "Enter a number: -1\n"
     ]
    },
    {
     "name": "stdout",
     "output_type": "stream",
     "text": [
      "userInput =  \u001b[33m-1\u001b[39m\n"
     ]
    }
   ],
   "source": [
    "// more while loop\n",
    "let userInput = 1;\n",
    "while (userInput!==-1 || isNaN(userInput)) {\n",
    "    let rawInput = prompt(\"Enter a number:\");\n",
    "    userInput = parseInt(rawInput);\n",
    "    console.log(\"userInput = \", userInput);\n",
    "}"
   ]
  },
  {
   "cell_type": "code",
   "execution_count": null,
   "id": "d1757c9d-4fc3-47a5-89aa-f3bb948946d8",
   "metadata": {},
   "outputs": [],
   "source": [
    "// \"Do ... while\" loop\n",
    "Do {\n",
    "    \n",
    "} while (true);"
   ]
  },
  {
   "cell_type": "code",
   "execution_count": 23,
   "id": "aa7c34af-58ae-4a3c-9ccb-135af11d4ac0",
   "metadata": {},
   "outputs": [
    {
     "name": "stdin",
     "output_type": "stream",
     "text": [
      "Enter a number: 6\n"
     ]
    },
    {
     "name": "stdout",
     "output_type": "stream",
     "text": [
      "userInput =  \u001b[33m6\u001b[39m\n"
     ]
    },
    {
     "name": "stdin",
     "output_type": "stream",
     "text": [
      "Enter a number: 66\n"
     ]
    },
    {
     "name": "stdout",
     "output_type": "stream",
     "text": [
      "userInput =  \u001b[33m66\u001b[39m\n"
     ]
    },
    {
     "name": "stdin",
     "output_type": "stream",
     "text": [
      "Enter a number: 444\n"
     ]
    },
    {
     "name": "stdout",
     "output_type": "stream",
     "text": [
      "userInput =  \u001b[33m444\u001b[39m\n"
     ]
    },
    {
     "name": "stdin",
     "output_type": "stream",
     "text": [
      "Enter a number: hgvg\n"
     ]
    },
    {
     "name": "stdout",
     "output_type": "stream",
     "text": [
      "userInput =  \u001b[33mNaN\u001b[39m\n"
     ]
    },
    {
     "name": "stdin",
     "output_type": "stream",
     "text": [
      "Enter a number: -1\n"
     ]
    },
    {
     "name": "stdout",
     "output_type": "stream",
     "text": [
      "userInput =  \u001b[33m-1\u001b[39m\n"
     ]
    }
   ],
   "source": [
    "let userInput = -1;\n",
    "do {\n",
    "    let rawInput = prompt(\"Enter a number:\");\n",
    "    userInput = parseInt(rawInput);\n",
    "    console.log(\"userInput = \", userInput);\n",
    "} while (userInput!==-1 || isNaN(userInput));"
   ]
  },
  {
   "cell_type": "code",
   "execution_count": null,
   "id": "70ea6178-85ef-4bb4-88c9-1a75a2b7be98",
   "metadata": {},
   "outputs": [],
   "source": [
    "** for (let i=0, i<10, i=i+1) {\n",
    "    command\n",
    "} **"
   ]
  },
  {
   "cell_type": "code",
   "execution_count": 31,
   "id": "f5a0a033-ddfe-41f9-b08a-8ea8fa91172a",
   "metadata": {},
   "outputs": [
    {
     "name": "stdout",
     "output_type": "stream",
     "text": [
      "\u001b[33m3\u001b[39m\n",
      "\u001b[33m8\u001b[39m\n",
      "\u001b[33m13\u001b[39m\n",
      "\u001b[33m18\u001b[39m\n"
     ]
    }
   ],
   "source": [
    "for (let i= 3; i<20; i +=5) {\n",
    "    console.log(i);\n",
    "}"
   ]
  },
  {
   "cell_type": "code",
   "execution_count": 4,
   "id": "0702dee8-a37a-4089-8920-b3a131e075a3",
   "metadata": {},
   "outputs": [
    {
     "name": "stdout",
     "output_type": "stream",
     "text": [
      "\u001b[33m0\u001b[39m\n",
      "\u001b[33m-1\u001b[39m\n",
      "\u001b[33m-2\u001b[39m\n",
      "\u001b[33m-3\u001b[39m\n",
      "\u001b[33m-4\u001b[39m\n"
     ]
    }
   ],
   "source": [
    "for (let i=0; i>-5 ; i -=1) {\n",
    "    console.log(i);\n",
    "}"
   ]
  },
  {
   "attachments": {},
   "cell_type": "markdown",
   "id": "4f5e4316-890e-4997-b79e-e2d18a1de48a",
   "metadata": {},
   "source": [
    "**fsdnfksdfns**"
   ]
  },
  {
   "cell_type": "code",
   "execution_count": 2,
   "id": "754e1f23-6a65-47f4-9a47-b5da67381977",
   "metadata": {},
   "outputs": [
    {
     "ename": "Expression expected at file:///repl.tsx:1:3\n\n  **fsdfsdfsdf**\n    ~~~~~~~~~~",
     "evalue": "Expression expected at file:///repl.tsx:1:3\n\n  **fsdfsdfsdf**\n    ~~~~~~~~~~",
     "output_type": "error",
     "traceback": []
    }
   ],
   "source": [
    "**fsdfsdfsdf**"
   ]
  },
  {
   "cell_type": "code",
   "execution_count": null,
   "id": "de3d13ce-245c-4580-bbcd-3633f2c0dc62",
   "metadata": {},
   "outputs": [],
   "source": []
  }
 ],
 "metadata": {
  "kernelspec": {
   "display_name": "Deno",
   "language": "typescript",
   "name": "deno"
  },
  "language_info": {
   "codemirror_mode": "typescript",
   "file_extension": ".ts",
   "mimetype": "text/x.typescript",
   "name": "typescript",
   "nbconvert_exporter": "script",
   "pygments_lexer": "typescript",
   "version": "5.9.2"
  }
 },
 "nbformat": 4,
 "nbformat_minor": 5
}
