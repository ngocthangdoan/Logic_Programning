{
 "cells": [
  {
   "cell_type": "code",
   "execution_count": 1,
   "id": "f448025e-f82d-42b5-9b6e-a7ced26ca759",
   "metadata": {},
   "outputs": [],
   "source": [
    "let isSunny = true;\n",
    "let isRaining = false;\n",
    "let isSunny2: boolean = true;\n",
    "let isRaining2: boolean = false;"
   ]
  },
  {
   "cell_type": "code",
   "execution_count": 2,
   "id": "cb9d4e5e-705e-401d-ac8c-4fedef354e44",
   "metadata": {},
   "outputs": [],
   "source": [
    "// NOT a boolean value\n",
    "let notABoolean = \"true\";\n",
    "let alsoNotABoolean = 1;\n"
   ]
  },
  {
   "cell_type": "code",
   "execution_count": 4,
   "id": "7079f69a-318c-4902-bea5-3b3bb5263dbb",
   "metadata": {},
   "outputs": [
    {
     "name": "stdout",
     "output_type": "stream",
     "text": [
      "\u001b[33mfalse\u001b[39m\n",
      "\u001b[33mtrue\u001b[39m\n"
     ]
    }
   ],
   "source": [
    "// can make a boolean from other values\n",
    "let aBoolean = !\"Hello\";\n",
    "console.log(aBoolean);\n",
    "aBoolean = !!42;\n",
    "console.log(aBoolean);"
   ]
  },
  {
   "cell_type": "code",
   "execution_count": 10,
   "id": "2e95a7eb-4125-42a5-9348-8ea4c62d4409",
   "metadata": {},
   "outputs": [
    {
     "name": "stdout",
     "output_type": "stream",
     "text": [
      "\u001b[33mfalse\u001b[39m\n"
     ]
    }
   ],
   "source": [
    "let a = 1;\n",
    "let b = 2;\n",
    "a !== b;\n",
    "console.log(a===b);"
   ]
  },
  {
   "cell_type": "code",
   "execution_count": 7,
   "id": "a05661d9-fffa-45d9-9a98-5d6a1d9c719d",
   "metadata": {},
   "outputs": [
    {
     "data": {
      "text/plain": [
       "\u001b[33mfalse\u001b[39m"
      ]
     },
     "execution_count": 7,
     "metadata": {},
     "output_type": "execute_result"
    }
   ],
   "source": [
    "\"abc\" === \"123\";"
   ]
  },
  {
   "cell_type": "code",
   "execution_count": 8,
   "id": "012d6159-ab04-4d2b-a471-6b4621602f41",
   "metadata": {},
   "outputs": [
    {
     "data": {
      "text/plain": [
       "\u001b[33mtrue\u001b[39m"
      ]
     },
     "execution_count": 8,
     "metadata": {},
     "output_type": "execute_result"
    }
   ],
   "source": [
    "\"apple\" < \"banana\";"
   ]
  },
  {
   "cell_type": "code",
   "execution_count": 9,
   "id": "57e4ee08-aa71-45a5-9ade-7d4721a6275b",
   "metadata": {},
   "outputs": [
    {
     "data": {
      "text/plain": [
       "\u001b[33mtrue\u001b[39m"
      ]
     },
     "execution_count": 9,
     "metadata": {},
     "output_type": "execute_result"
    }
   ],
   "source": [
    "\"apple\" === \"APPLE\".toLowerCase();"
   ]
  },
  {
   "cell_type": "code",
   "execution_count": 10,
   "id": "97b9a066-3e9a-4703-833d-6b78a22fa323",
   "metadata": {},
   "outputs": [
    {
     "data": {
      "text/plain": [
       "\u001b[33mtrue\u001b[39m"
      ]
     },
     "execution_count": 10,
     "metadata": {},
     "output_type": "execute_result"
    }
   ],
   "source": [
    "\"apple\".toUpperCase() === \"APPLE\";"
   ]
  },
  {
   "cell_type": "code",
   "execution_count": 2,
   "id": "e788e382-a5d1-4e18-a224-11f9624c027e",
   "metadata": {},
   "outputs": [
    {
     "data": {
      "text/plain": [
       "\u001b[33mtrue\u001b[39m"
      ]
     },
     "execution_count": 2,
     "metadata": {},
     "output_type": "execute_result"
    }
   ],
   "source": [
    "\"apPle\".toLowerCase() === \"apple\";"
   ]
  },
  {
   "cell_type": "code",
   "execution_count": 4,
   "id": "385f360d-5b1f-4389-a521-6624307832fa",
   "metadata": {},
   "outputs": [
    {
     "data": {
      "text/plain": [
       "\u001b[33mtrue\u001b[39m"
      ]
     },
     "execution_count": 4,
     "metadata": {},
     "output_type": "execute_result"
    }
   ],
   "source": [
    "Boolean(0) === false;"
   ]
  },
  {
   "cell_type": "code",
   "execution_count": 14,
   "id": "3ff83822-122e-4fa2-9715-ebb78b4c3b9f",
   "metadata": {},
   "outputs": [
    {
     "data": {
      "text/plain": [
       "\u001b[33mtrue\u001b[39m"
      ]
     },
     "execution_count": 14,
     "metadata": {},
     "output_type": "execute_result"
    }
   ],
   "source": [
    "0 == false;"
   ]
  },
  {
   "cell_type": "code",
   "execution_count": 15,
   "id": "994be92f-2bc0-4e54-baa4-f0b5ff7e2489",
   "metadata": {},
   "outputs": [
    {
     "data": {
      "text/plain": [
       "\u001b[33mfalse\u001b[39m"
      ]
     },
     "execution_count": 15,
     "metadata": {},
     "output_type": "execute_result"
    }
   ],
   "source": [
    "0 === false;"
   ]
  },
  {
   "cell_type": "code",
   "execution_count": 16,
   "id": "83c3791c-fabe-4d87-ac53-260a7076052b",
   "metadata": {},
   "outputs": [
    {
     "data": {
      "text/plain": [
       "\u001b[33m1\u001b[39m"
      ]
     },
     "execution_count": 16,
     "metadata": {},
     "output_type": "execute_result"
    }
   ],
   "source": [
    "Number(true);"
   ]
  },
  {
   "cell_type": "code",
   "execution_count": 17,
   "id": "f93aca00-6d3e-4d26-9d03-52b31cee5414",
   "metadata": {},
   "outputs": [
    {
     "data": {
      "text/plain": [
       "\u001b[33m0\u001b[39m"
      ]
     },
     "execution_count": 17,
     "metadata": {},
     "output_type": "execute_result"
    }
   ],
   "source": [
    "Number(false);"
   ]
  },
  {
   "cell_type": "code",
   "execution_count": 18,
   "id": "05bd0063-fb65-4965-b2f4-b7966148171b",
   "metadata": {},
   "outputs": [
    {
     "data": {
      "text/plain": [
       "\u001b[33mtrue\u001b[39m"
      ]
     },
     "execution_count": 18,
     "metadata": {},
     "output_type": "execute_result"
    }
   ],
   "source": [
    "Boolean(\"abc\") === true // do this"
   ]
  },
  {
   "cell_type": "code",
   "execution_count": 19,
   "id": "1f34ed1e-8e9e-4e10-aeb3-c31b9ea8820d",
   "metadata": {},
   "outputs": [
    {
     "data": {
      "text/plain": [
       "\u001b[33mfalse\u001b[39m"
      ]
     },
     "execution_count": 19,
     "metadata": {},
     "output_type": "execute_result"
    }
   ],
   "source": [
    "\"abc\" == true // do not this"
   ]
  },
  {
   "cell_type": "code",
   "execution_count": 22,
   "id": "f4a57244-cc4c-444f-b4ec-c36a996eeb25",
   "metadata": {},
   "outputs": [
    {
     "data": {
      "text/plain": [
       "\u001b[33mfalse\u001b[39m"
      ]
     },
     "execution_count": 22,
     "metadata": {},
     "output_type": "execute_result"
    }
   ],
   "source": [
    "// float comparisions\n",
    "let answer = 1.4141414141414141414;\n",
    "Math.sqrt(2);\n",
    "answer === Math.sqrt(2); // do not use equas to compare decimals"
   ]
  },
  {
   "cell_type": "code",
   "execution_count": 21,
   "id": "855ca4c1-a6f5-4d95-893c-0e6a821dec17",
   "metadata": {},
   "outputs": [
    {
     "data": {
      "text/plain": [
       "\u001b[33m1.2312312312312312e+47\u001b[39m"
      ]
     },
     "execution_count": 21,
     "metadata": {},
     "output_type": "execute_result"
    }
   ],
   "source": [
    "123123123123123123123123123123123123123123123123.123123"
   ]
  },
  {
   "cell_type": "code",
   "execution_count": 6,
   "id": "609c7a8d-11ff-42e9-a502-87ac36ae7192",
   "metadata": {},
   "outputs": [
    {
     "name": "stdout",
     "output_type": "stream",
     "text": [
      "\u001b[33m0.30000000000000004\u001b[39m\n",
      "\u001b[33m0.3\u001b[39m\n"
     ]
    }
   ],
   "source": [
    "let a = 0.1;\n",
    "let b = 0.2;\n",
    "console.log(a+b);\n",
    "(a + b) === 0.3;\n",
    "console.log(0.3);"
   ]
  },
  {
   "cell_type": "code",
   "execution_count": 26,
   "id": "693b35de-3544-4d5e-b401-7c6e5b8169d1",
   "metadata": {},
   "outputs": [],
   "source": [
    "let s = \"arbitrarily\";"
   ]
  },
  {
   "cell_type": "code",
   "execution_count": 27,
   "id": "3ab1f7eb-a03f-4de2-ad31-9d2e6df796bf",
   "metadata": {},
   "outputs": [
    {
     "name": "stdout",
     "output_type": "stream",
     "text": [
      " !\"#$%&'()*+,-./0123456789:;<=>?@ABCDEFGHIJKLMNOPQRSTUVWXYZ[\\]^_`abcdefghijklmnopqrstuvwxyz{|}~\n"
     ]
    }
   ],
   "source": [
    "console.log(Array.from({ length: 95 }, (_, i) => String.fromCharCode(i + 32)).join(''));"
   ]
  },
  {
   "cell_type": "code",
   "execution_count": 29,
   "id": "8ea9babb-7a4d-4ac9-8f70-b9fd05c062a8",
   "metadata": {},
   "outputs": [
    {
     "name": "stdout",
     "output_type": "stream",
     "text": [
      "fjdslfjsdlfsjdflk\n",
      "sfjfksfsdk\n"
     ]
    }
   ],
   "source": [
    "// basic if statement\n",
    "let num = 5;\n",
    "if (num < 10) {\n",
    "\n",
    "\n",
    "    \n",
    "    console.log(\"fjdslfjsdlfsjdflk\"); console.log(\"sfjfksfsdk\");\n",
    "\n",
    "    \n",
    "}"
   ]
  },
  {
   "cell_type": "code",
   "execution_count": 30,
   "id": "2148bf9d-2d8d-4b38-a888-62eb33bc4379",
   "metadata": {},
   "outputs": [
    {
     "name": "stdout",
     "output_type": "stream",
     "text": [
      "fjdslfjsdlfsjdflk\n",
      "sfjfksfsdk\n"
     ]
    }
   ],
   "source": [
    "// basic if statement\n",
    "let num = 5;\n",
    "if (num < 10) {\n",
    "    console.log(\"fjdslfjsdlfsjdflk\");  // make sure to indent ! 4 spaces\n",
    "    console.log(\"sfjfksfsdk\");\n",
    "}"
   ]
  },
  {
   "cell_type": "code",
   "execution_count": 31,
   "id": "dcbff7d7-6f2d-4319-a9b0-539f372c06b1",
   "metadata": {},
   "outputs": [
    {
     "name": "stdout",
     "output_type": "stream",
     "text": [
      "fjdslfjsdlfsjdflk\n"
     ]
    }
   ],
   "source": [
    "// basic if else statement\n",
    "let num = 5;\n",
    "if (num < 10) {\n",
    "    console.log(\"fjdslfjsdlfsjdflk\"); \n",
    "} else {\n",
    "    console.log(\"fdsjfsfjsdkfjd\");\n",
    "}"
   ]
  },
  {
   "cell_type": "code",
   "execution_count": 34,
   "id": "61b3aefa-8f64-4bbe-988e-bc7f8373a5af",
   "metadata": {},
   "outputs": [
    {
     "name": "stdout",
     "output_type": "stream",
     "text": [
      "fdsjfsfjsdkfjd\n"
     ]
    }
   ],
   "source": [
    "// basic if statement\n",
    "let num = 6;\n",
    "if (num > 10) {\n",
    "    console.log(\"fjdslfjsdlfsjdflk\"); \n",
    "} else if (num > 5) {\n",
    "    console.log(\"fdsjfsfjsdkfjd\");\n",
    "} else {\n",
    "    console.log(\"flkfsdfjsd\");\n",
    "}"
   ]
  },
  {
   "cell_type": "code",
   "execution_count": 9,
   "id": "0f7749c5-65c4-4e08-8801-212b687b52a1",
   "metadata": {},
   "outputs": [
    {
     "name": "stdout",
     "output_type": "stream",
     "text": [
      " a > 5 \n"
     ]
    }
   ],
   "source": [
    "let a=6;\n",
    "if (a>10) {\n",
    "    console.log(\" a > 10 \");\n",
    "} else if (a>7) {\n",
    "    console.log(\" a > 7 \");\n",
    "} else if (a>5) {\n",
    "    console.log(\" a > 5 \");\n",
    "} else {\n",
    "    console.log(\" a <= 5 \");\n",
    "}"
   ]
  },
  {
   "cell_type": "code",
   "execution_count": 12,
   "id": "d2382433-6981-4399-bd4a-62163662e239",
   "metadata": {},
   "outputs": [
    {
     "name": "stdout",
     "output_type": "stream",
     "text": [
      "<=10\n",
      "<6\n"
     ]
    }
   ],
   "source": [
    "// nested if statement\n",
    "let num = -5;\n",
    "if (num > 10) {\n",
    "    console.log(\">10\");\n",
    "} else {\n",
    "    console.log(\"<=10\");\n",
    "    if (num<6) {\n",
    "        console.log(\"<6\");\n",
    "    } else {\n",
    "        if (num > 0) {\n",
    "            console.log(\">0\");\n",
    "        } else {\n",
    "            console.log(\"<=0\");\n",
    "        }\n",
    "    }\n",
    "}"
   ]
  },
  {
   "cell_type": "code",
   "execution_count": 14,
   "id": "a051ae1a-76aa-4e88-bc30-11db9ad9f8f0",
   "metadata": {},
   "outputs": [
    {
     "name": "stdout",
     "output_type": "stream",
     "text": [
      "violet\n"
     ]
    }
   ],
   "source": [
    "// compound if statements\n",
    "// create a program that combines two primary colours into a secondary colour\n",
    "let colour1 = \"red\";\n",
    "let colour2 = \"blue\";\n",
    "\n",
    "if (colour1 === \"red\") {\n",
    "    if (colour2 === \"yellow\") {\n",
    "        console.log(\"orange\");\n",
    "    } else if (colour2 === \"blue\") {\n",
    "        console.log(\"violet\");\n",
    "    } else {\n",
    "        console.log(\"Invalid colour choise\");\n",
    "    }\n",
    "} else {\n",
    "    console.log(\"Invalid colour choise\")\n",
    "}"
   ]
  },
  {
   "cell_type": "code",
   "execution_count": 15,
   "id": "46e0ed98-1bd6-4389-92f5-8eedb4be656d",
   "metadata": {},
   "outputs": [
    {
     "name": "stdout",
     "output_type": "stream",
     "text": [
      "orange\n"
     ]
    }
   ],
   "source": [
    "// compound if statements\n",
    "// create a program that combines two primary colours into a secondary colour\n",
    "let colour1 = \"red\";\n",
    "let colour2 = \"blue\";\n",
    "\n",
    "if (colour1 === \"red\" && colour2 === \"blue\") {\n",
    "    console.log(\"orange\");\n",
    "}"
   ]
  },
  {
   "cell_type": "code",
   "execution_count": null,
   "id": "1ebd6c6c-e79a-498e-9263-2d9b3cd960aa",
   "metadata": {},
   "outputs": [],
   "source": []
  }
 ],
 "metadata": {
  "kernelspec": {
   "display_name": "Deno",
   "language": "typescript",
   "name": "deno"
  },
  "language_info": {
   "codemirror_mode": "typescript",
   "file_extension": ".ts",
   "mimetype": "text/x.typescript",
   "name": "typescript",
   "nbconvert_exporter": "script",
   "pygments_lexer": "typescript",
   "version": "5.9.2"
  }
 },
 "nbformat": 4,
 "nbformat_minor": 5
}
