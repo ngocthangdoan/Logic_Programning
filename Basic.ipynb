{
 "cells": [
  {
   "cell_type": "code",
   "execution_count": 1,
   "id": "a7f706cb-5fe5-4d8e-ae18-41ab02c00616",
   "metadata": {},
   "outputs": [
    {
     "name": "stdout",
     "output_type": "stream",
     "text": [
      "Hello world\n"
     ]
    }
   ],
   "source": [
    "console.log(\"Hello world\")"
   ]
  },
  {
   "cell_type": "code",
   "execution_count": 2,
   "id": "b3f6d923-09a0-481b-9dd0-1058fdf00591",
   "metadata": {},
   "outputs": [],
   "source": [
    "// comment\n",
    "// this is something else\n",
    "// this is drscription about something\n",
    "/*\n",
    "*\n",
    "*\n",
    "* This is a huge comment\n",
    "*/\n"
   ]
  },
  {
   "cell_type": "code",
   "execution_count": 7,
   "id": "c88e74a0-108b-43fb-956a-155ddc317589",
   "metadata": {},
   "outputs": [
    {
     "name": "stdout",
     "output_type": "stream",
     "text": [
      "Hello world!\n",
      "123\n",
      "Address: 123 Somewhere Dr, Halifax, NS\n",
      "\u001b[33m123\u001b[39m\n",
      "Hello\n",
      "World\n"
     ]
    }
   ],
   "source": [
    "// console.log - to display information to the console\n",
    "// any information that helps troubleshoot your programs\n",
    "\n",
    "// simple outpur\n",
    "console.log(\"Hello world!\");\n",
    "console.log(\"123\");\n",
    "// text inside quotation marks is called a \"string\"\n",
    "console.log(\"Address: 123 Somewhere Dr, Halifax, NS\");\n",
    "// intergers are types of data that you can do math on \n",
    "console.log(123);\n",
    "// there are some special \"characters\" that perform different actions\n",
    "console.log(\"Hello\\nWorld\");"
   ]
  },
  {
   "cell_type": "code",
   "execution_count": 8,
   "id": "ab2e0a0b-9e33-4615-aed8-cd33364243ee",
   "metadata": {},
   "outputs": [
    {
     "name": "stdin",
     "output_type": "stream",
     "text": [
      "What day? Friday\n"
     ]
    },
    {
     "data": {
      "text/plain": [
       "\u001b[32m\"Friday\"\u001b[39m"
      ]
     },
     "execution_count": 8,
     "metadata": {},
     "output_type": "execute_result"
    }
   ],
   "source": [
    "// promt - used to get input from user \n",
    "// allow the user to enter in answer to questions\n",
    "//e.g what day of the week is it? Friday\n",
    "prompt(\"What day?\")"
   ]
  },
  {
   "cell_type": "code",
   "execution_count": 13,
   "id": "54ac1673-25e9-45d4-a508-85a05cbdb0c4",
   "metadata": {},
   "outputs": [],
   "source": [
    "// variables \n",
    "let name; \n",
    "// name convention - \"camelCasing\"\n",
    "let dayofweek;\n",
    "let happiestDay;\n",
    "let endOfWeek;\n",
    "// bad name for variables\n",
    "let XXXXX_YYYY_afdfsdf; // day of week\n",
    "// let my Name; //invalid name - spaces are not allowed;\n",
    "// let 123; // invalid name - can't be all numbers\n",
    "//  let :); // invalid name\n",
    "// can only use alphanumeric "
   ]
  },
  {
   "cell_type": "code",
   "execution_count": 12,
   "id": "30d4b4bb-0989-4b58-aa4a-0994b2c06147",
   "metadata": {},
   "outputs": [
    {
     "name": "stdin",
     "output_type": "stream",
     "text": [
      "What day? Friday\n"
     ]
    },
    {
     "name": "stdout",
     "output_type": "stream",
     "text": [
      "The day of the week is  Friday\n"
     ]
    }
   ],
   "source": [
    "let dayofweek = prompt(\"What day?\");\n",
    "console.log(\"The day of the week is \", dayofweek);"
   ]
  },
  {
   "cell_type": "code",
   "execution_count": 20,
   "id": "8e9e6004-517f-4511-818d-ccb7e1179db5",
   "metadata": {},
   "outputs": [
    {
     "name": "stdout",
     "output_type": "stream",
     "text": [
      "12345\n",
      "\u001b[33m12345\u001b[39m\n",
      "Data: \u001b[33m12345\u001b[39m 12345 \u001b[33m12.34\u001b[39m\n",
      "Price = $12.34\n"
     ]
    }
   ],
   "source": [
    "// other uses of variables\n",
    "let myNumber = 12345;\n",
    "let myString = \"12345\";\n",
    "console.log(myString);\n",
    "console.log(myNumber);\n",
    "let myDecimal = 12.34;\n",
    "console.log(\"Data:\", myNumber, myString, myDecimal);\n",
    "console.log(`Price = $${myDecimal}`);"
   ]
  },
  {
   "cell_type": "code",
   "execution_count": 21,
   "id": "16594dc9-50ce-44ad-a31e-1cb875f7d614",
   "metadata": {},
   "outputs": [
    {
     "ename": "ReferenceError",
     "evalue": "notAvariable is not defined",
     "output_type": "error",
     "traceback": [
      "Stack trace:",
      "ReferenceError: notAvariable is not defined",
      "    at <anonymous>:2:13"
     ]
    }
   ],
   "source": [
    "// what if a variable is not \"declare\"?\n",
    "console.log(notAvariable);"
   ]
  },
  {
   "cell_type": "code",
   "execution_count": 36,
   "id": "12efdbd8-6c87-42b0-b83d-4be538e08f24",
   "metadata": {},
   "outputs": [
    {
     "ename": "Expected ',', got '}' at file:///repl.tsx:5:25\n\n  console.log(`${myMonth}`}\n                          ~",
     "evalue": "Expected ',', got '}' at file:///repl.tsx:5:25\n\n  console.log(`${myMonth}`}\n                          ~",
     "output_type": "error",
     "traceback": []
    }
   ],
   "source": []
  },
  {
   "cell_type": "code",
   "execution_count": 35,
   "id": "68916584-7102-46ed-9b77-57676267330a",
   "metadata": {},
   "outputs": [
    {
     "name": "stdin",
     "output_type": "stream",
     "text": [
      "Your firsr name: xvxv\n",
      "Your last name: fngng\n"
     ]
    },
    {
     "name": "stdout",
     "output_type": "stream",
     "text": [
      "xvxv.fngng@nscc.ca\n"
     ]
    }
   ],
   "source": [
    "let fName = prompt(\"Your firsr name:\");\n",
    "let lName = prompt(\"Your last name:\");\n",
    "console.log(`${fName}.${lName}@nscc.ca`);\n"
   ]
  },
  {
   "cell_type": "code",
   "execution_count": 1,
   "id": "cfc8ea9f-c84d-4ce9-8f4d-a0d9934e752c",
   "metadata": {},
   "outputs": [
    {
     "name": "stdout",
     "output_type": "stream",
     "text": [
      "The day: \u001b[33m9\u001b[39m / \u001b[33m19\u001b[39m / \u001b[33m2025\u001b[39m\n",
      "dfgdfg 19\n"
     ]
    }
   ],
   "source": [
    "let myDay = 19;\n",
    "let myMonth = 9;\n",
    "let myYear = 2025;\n",
    "console.log(\"The day:\", myMonth, \"/\", myDay, \"/\", myYear);\n",
    "console.log(`dfgdfg ${myDay}`);\n",
    "    "
   ]
  },
  {
   "cell_type": "code",
   "execution_count": null,
   "id": "8f3c6e72-90d7-4d61-b70f-478a7d42206a",
   "metadata": {},
   "outputs": [],
   "source": []
  }
 ],
 "metadata": {
  "kernelspec": {
   "display_name": "Deno",
   "language": "typescript",
   "name": "deno"
  },
  "language_info": {
   "codemirror_mode": "typescript",
   "file_extension": ".ts",
   "mimetype": "text/x.typescript",
   "name": "typescript",
   "nbconvert_exporter": "script",
   "pygments_lexer": "typescript",
   "version": "5.9.2"
  }
 },
 "nbformat": 4,
 "nbformat_minor": 5
}
